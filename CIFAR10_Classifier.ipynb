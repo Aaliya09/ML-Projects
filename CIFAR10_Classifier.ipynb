{
 "cells": [
  {
   "cell_type": "code",
   "execution_count": 1,
   "id": "bb5ab770",
   "metadata": {
    "slideshow": {
     "slide_type": ""
    },
    "tags": []
   },
   "outputs": [
    {
     "name": "stdout",
     "output_type": "stream",
     "text": [
      "2.10.0\n"
     ]
    }
   ],
   "source": [
    "import tensorflow as tf\n",
    "from tensorflow.keras import layers\n",
    "import tensorflow.keras as keras\n",
    "\n",
    "# Helper libraries\n",
    "import numpy as np\n",
    "import matplotlib.pyplot as plt\n",
    "\n",
    "print(tf.__version__)\n"
   ]
  },
  {
   "cell_type": "markdown",
   "id": "f84285f5",
   "metadata": {},
   "source": [
    "# CIFAR-10 Image Classification\n",
    "\n",
    "## 📌 Project Overview\n",
    "Image classification of 32x32 color images using Convolutional Neural Networks. The goal is to correctly classify images into one of 10 categories.\n",
    "\n",
    "## 🗂 Dataset\n",
    "- CIFAR-10 dataset\n",
    "- 50,000 training and 10,000 testing images\n",
    "- 10 classes: airplane, car, bird, cat, deer, dog, frog, horse, ship, truck\n"
   ]
  },
  {
   "cell_type": "code",
   "execution_count": 2,
   "id": "eee8ecb6",
   "metadata": {
    "slideshow": {
     "slide_type": ""
    },
    "tags": []
   },
   "outputs": [
    {
     "data": {
      "application/vnd.jupyter.widget-view+json": {
       "model_id": "8fec6a8b87a3446192ab5ba4daafe099",
       "version_major": 2,
       "version_minor": 0
      },
      "text/plain": [
       "interactive(children=(IntSlider(value=24999, description='k', max=49999), Output()), _dom_classes=('widget-int…"
      ]
     },
     "metadata": {},
     "output_type": "display_data"
    }
   ],
   "source": [
    "labels = ['airplane', 'automobile', 'bird', 'cat', 'deer', 'dog', 'frog', 'horse', 'ship', 'truck']\n",
    "\n",
    "(train_data,train_labels),(test_data,test_labels) = keras.datasets.cifar10.load_data()\n",
    "\n",
    "\n",
    "from ipywidgets import interact\n",
    "\n",
    "@interact(k=(0, len(train_data)-1))\n",
    "def myplot(k):\n",
    "    fig, ax = plt.subplots(figsize=(1, 1))\n",
    "    ax.set_title(labels[train_labels[k][0]])\n",
    "    ax.imshow(train_data[k])\n"
   ]
  },
  {
   "cell_type": "code",
   "execution_count": 3,
   "id": "023448b5",
   "metadata": {},
   "outputs": [
    {
     "name": "stdout",
     "output_type": "stream",
     "text": [
      "Shape of train_labels: (50000, 1)\n",
      "Data type of train_labels: uint8\n",
      "Examples of train_labels: [[6]\n",
      " [9]\n",
      " [9]\n",
      " [4]\n",
      " [1]\n",
      " [1]\n",
      " [2]\n",
      " [7]\n",
      " [8]\n",
      " [3]]\n"
     ]
    }
   ],
   "source": [
    "# Check the shape and data type of train_labels\n",
    "print(\"Shape of train_labels:\", train_labels.shape)\n",
    "print(\"Data type of train_labels:\", train_labels.dtype)\n",
    "\n",
    "# Print a few examples of train_labels\n",
    "print(\"Examples of train_labels:\", train_labels[:10])"
   ]
  },
  {
   "cell_type": "code",
   "execution_count": 4,
   "id": "5a81cc43",
   "metadata": {},
   "outputs": [
    {
     "data": {
      "text/plain": [
       "((50000, 32, 32, 3), (10000, 32, 32, 3))"
      ]
     },
     "execution_count": 4,
     "metadata": {},
     "output_type": "execute_result"
    }
   ],
   "source": [
    "train_data.shape, test_data.shape"
   ]
  },
  {
   "cell_type": "code",
   "execution_count": 39,
   "id": "d10f1274",
   "metadata": {},
   "outputs": [],
   "source": [
    "# Normalize the training data and test data by dividing by 255 to scale the pixel values between 0 and 1\n",
    "train_data = train_data/ 255.0\n",
    "test_data = test_data / 255.0"
   ]
  },
  {
   "cell_type": "markdown",
   "id": "970a220f",
   "metadata": {},
   "source": [
    "There is a total of 50,000 images for training and 10,000 images for testing. Besides, each of these images is of dimensions 32×32 and colour.\n"
   ]
  },
  {
   "cell_type": "code",
   "execution_count": 6,
   "id": "d48d3a2d",
   "metadata": {},
   "outputs": [],
   "source": [
    "num_class =10\n",
    "# Convert the training labels and test labels to one-hot encoded format using to_categorical function\n",
    "train_labels = keras.utils.to_categorical(train_labels, num_class)\n",
    "test_labels = keras.utils.to_categorical(test_labels, num_class)\n"
   ]
  },
  {
   "cell_type": "code",
   "execution_count": 7,
   "id": "3f3d243d",
   "metadata": {},
   "outputs": [],
   "source": [
    "from keras.models import Sequential\n",
    "from keras.layers import Conv2D, MaxPooling2D, Flatten, Dense, Dropout, Activation, BatchNormalization\n",
    "\n",
    "\n",
    "num_classes = 10\n",
    "model1 = Sequential()\n",
    "\n",
    "# Convolutional layers with batch normalization\n",
    "model1.add(Conv2D(32, (3, 3), padding='same', input_shape=train_data.shape[1:]))\n",
    "model1.add(BatchNormalization())\n",
    "model1.add(Activation('relu'))\n",
    "model1.add(MaxPooling2D(pool_size=(2, 2)))\n",
    "model1.add(Dropout(0.25))\n",
    "\n",
    "model1.add(Conv2D(64, (3, 3), padding='same'))\n",
    "model1.add(BatchNormalization())\n",
    "model1.add(Activation('relu'))\n",
    "model1.add(MaxPooling2D(pool_size=(2, 2)))\n",
    "model1.add(Dropout(0.25))\n",
    "\n",
    "# Flatten layer\n",
    "model1.add(Flatten())\n",
    "\n",
    "# Fully connected layers with batch normalization\n",
    "model1.add(Dense(512))\n",
    "model1.add(BatchNormalization())\n",
    "model1.add(Activation('relu'))\n",
    "model1.add(Dropout(0.5))\n",
    "\n",
    "model1.add(Dense(num_classes))\n",
    "model1.add(Activation('softmax'))\n"
   ]
  },
  {
   "cell_type": "code",
   "execution_count": 8,
   "id": "c999fc2b",
   "metadata": {},
   "outputs": [],
   "source": [
    "#Compile the model using categorical crossentropy as the loss function, Adam optimizer, and accuracy as the evaluation metric\n",
    "model1.compile(loss='categorical_crossentropy',\n",
    "              optimizer='Adam',metrics=['accuracy'])"
   ]
  },
  {
   "cell_type": "code",
   "execution_count": 9,
   "id": "cf4cb296",
   "metadata": {},
   "outputs": [
    {
     "name": "stdout",
     "output_type": "stream",
     "text": [
      "Model: \"sequential\"\n",
      "_________________________________________________________________\n",
      " Layer (type)                Output Shape              Param #   \n",
      "=================================================================\n",
      " conv2d (Conv2D)             (None, 32, 32, 32)        896       \n",
      "                                                                 \n",
      " batch_normalization (BatchN  (None, 32, 32, 32)       128       \n",
      " ormalization)                                                   \n",
      "                                                                 \n",
      " activation (Activation)     (None, 32, 32, 32)        0         \n",
      "                                                                 \n",
      " max_pooling2d (MaxPooling2D  (None, 16, 16, 32)       0         \n",
      " )                                                               \n",
      "                                                                 \n",
      " dropout (Dropout)           (None, 16, 16, 32)        0         \n",
      "                                                                 \n",
      " conv2d_1 (Conv2D)           (None, 16, 16, 64)        18496     \n",
      "                                                                 \n",
      " batch_normalization_1 (Batc  (None, 16, 16, 64)       256       \n",
      " hNormalization)                                                 \n",
      "                                                                 \n",
      " activation_1 (Activation)   (None, 16, 16, 64)        0         \n",
      "                                                                 \n",
      " max_pooling2d_1 (MaxPooling  (None, 8, 8, 64)         0         \n",
      " 2D)                                                             \n",
      "                                                                 \n",
      " dropout_1 (Dropout)         (None, 8, 8, 64)          0         \n",
      "                                                                 \n",
      " flatten (Flatten)           (None, 4096)              0         \n",
      "                                                                 \n",
      " dense (Dense)               (None, 512)               2097664   \n",
      "                                                                 \n",
      " batch_normalization_2 (Batc  (None, 512)              2048      \n",
      " hNormalization)                                                 \n",
      "                                                                 \n",
      " activation_2 (Activation)   (None, 512)               0         \n",
      "                                                                 \n",
      " dropout_2 (Dropout)         (None, 512)               0         \n",
      "                                                                 \n",
      " dense_1 (Dense)             (None, 10)                5130      \n",
      "                                                                 \n",
      " activation_3 (Activation)   (None, 10)                0         \n",
      "                                                                 \n",
      "=================================================================\n",
      "Total params: 2,124,618\n",
      "Trainable params: 2,123,402\n",
      "Non-trainable params: 1,216\n",
      "_________________________________________________________________\n"
     ]
    }
   ],
   "source": [
    "model1.summary()"
   ]
  },
  {
   "cell_type": "code",
   "execution_count": 10,
   "id": "1be241c9",
   "metadata": {},
   "outputs": [
    {
     "name": "stdout",
     "output_type": "stream",
     "text": [
      "Epoch 1/10\n",
      "1563/1563 [==============================] - 35s 21ms/step - loss: 1.4367 - accuracy: 0.4963 - val_loss: 1.1151 - val_accuracy: 0.6016\n",
      "Epoch 2/10\n",
      "1563/1563 [==============================] - 31s 20ms/step - loss: 1.0838 - accuracy: 0.6135 - val_loss: 1.1694 - val_accuracy: 0.5918\n",
      "Epoch 3/10\n",
      "1563/1563 [==============================] - 31s 20ms/step - loss: 0.9628 - accuracy: 0.6622 - val_loss: 0.9818 - val_accuracy: 0.6475\n",
      "Epoch 4/10\n",
      "1563/1563 [==============================] - 31s 20ms/step - loss: 0.8881 - accuracy: 0.6871 - val_loss: 0.8405 - val_accuracy: 0.7066\n",
      "Epoch 5/10\n",
      "1563/1563 [==============================] - 31s 20ms/step - loss: 0.8258 - accuracy: 0.7082 - val_loss: 0.8888 - val_accuracy: 0.6986\n",
      "Epoch 6/10\n",
      "1563/1563 [==============================] - 31s 20ms/step - loss: 0.7757 - accuracy: 0.7274 - val_loss: 0.7680 - val_accuracy: 0.7305\n",
      "Epoch 7/10\n",
      "1563/1563 [==============================] - 31s 20ms/step - loss: 0.7347 - accuracy: 0.7427 - val_loss: 0.8572 - val_accuracy: 0.6987\n",
      "Epoch 8/10\n",
      "1563/1563 [==============================] - 31s 20ms/step - loss: 0.6996 - accuracy: 0.7534 - val_loss: 1.0127 - val_accuracy: 0.6536\n",
      "Epoch 9/10\n",
      "1563/1563 [==============================] - 31s 20ms/step - loss: 0.6566 - accuracy: 0.7686 - val_loss: 0.9297 - val_accuracy: 0.6860\n",
      "Epoch 10/10\n",
      "1563/1563 [==============================] - 31s 20ms/step - loss: 0.6271 - accuracy: 0.7804 - val_loss: 0.9504 - val_accuracy: 0.6860\n"
     ]
    },
    {
     "data": {
      "text/plain": [
       "<keras.callbacks.History at 0x195026186d0>"
      ]
     },
     "execution_count": 10,
     "metadata": {},
     "output_type": "execute_result"
    }
   ],
   "source": [
    "# Train the model using the training data for 10 epochs, and validate it using the test data\n",
    "model1.fit(train_data,train_labels, \n",
    "          epochs=10,\n",
    "          validation_data=(test_data,test_labels))"
   ]
  },
  {
   "cell_type": "code",
   "execution_count": 11,
   "id": "50a0117b",
   "metadata": {},
   "outputs": [
    {
     "name": "stdout",
     "output_type": "stream",
     "text": [
      "313/313 [==============================] - 2s 5ms/step - loss: 0.9504 - accuracy: 0.6860\n",
      "Test Loss: 0.9504355192184448\n",
      "Test Accuracy: 0.6859999895095825\n"
     ]
    }
   ],
   "source": [
    "test_loss, test_accuracy = model1.evaluate(test_data, test_labels)\n",
    "\n",
    "print(\"Test Loss:\", test_loss)\n",
    "print(\"Test Accuracy:\", test_accuracy)"
   ]
  },
  {
   "cell_type": "code",
   "execution_count": 12,
   "id": "451b0686",
   "metadata": {},
   "outputs": [],
   "source": [
    "from keras.models import Sequential\n",
    "from keras.layers import Conv2D, MaxPooling2D, Flatten, Dense, Dropout, Activation, BatchNormalization\n",
    "from keras.layers import BatchNormalization\n",
    "num_classes = 10\n",
    "model2 = Sequential()\n",
    "\n",
    "# Convolutional layers with batch normalization\n",
    "model2.add(Conv2D(32, (3, 3), padding='same', input_shape=train_data.shape[1:]))\n",
    "model2.add(BatchNormalization())\n",
    "model2.add(Activation('relu'))\n",
    "\n",
    "model2.add(Conv2D(32, (3, 3)))\n",
    "model2.add(BatchNormalization())\n",
    "model2.add(Activation('relu'))\n",
    "model2.add(MaxPooling2D(pool_size=(2, 2)))\n",
    "model2.add(Dropout(0.25))\n",
    "\n",
    "model2.add(Conv2D(64, (3, 3), padding='same'))\n",
    "model2.add(BatchNormalization())\n",
    "model2.add(Activation('relu'))\n",
    "\n",
    "model2.add(Conv2D(64, (3, 3)))\n",
    "model2.add(BatchNormalization())\n",
    "model2.add(Activation('relu'))\n",
    "model2.add(MaxPooling2D(pool_size=(2, 2)))\n",
    "model2.add(Dropout(0.25))\n",
    "\n",
    "# Flatten layer\n",
    "model2.add(Flatten())\n",
    "\n",
    "# Fully connected layers with batch normalization\n",
    "model2.add(Dense(512))\n",
    "model2.add(BatchNormalization())\n",
    "model2.add(Activation('relu'))\n",
    "model2.add(Dropout(0.5))\n",
    "\n",
    "model2.add(Dense(num_classes))\n",
    "model2.add(Activation('softmax'))\n"
   ]
  },
  {
   "cell_type": "code",
   "execution_count": 13,
   "id": "9b7923e7",
   "metadata": {},
   "outputs": [],
   "source": [
    "#Compile the model using categorical crossentropy as the loss function, Adam optimizer, and accuracy as the evaluation metric\n",
    "model2.compile(loss='categorical_crossentropy',\n",
    "              optimizer='Adam',metrics=['accuracy'])"
   ]
  },
  {
   "cell_type": "code",
   "execution_count": 14,
   "id": "c51398d7",
   "metadata": {},
   "outputs": [
    {
     "name": "stdout",
     "output_type": "stream",
     "text": [
      "Model: \"sequential_1\"\n",
      "_________________________________________________________________\n",
      " Layer (type)                Output Shape              Param #   \n",
      "=================================================================\n",
      " conv2d_2 (Conv2D)           (None, 32, 32, 32)        896       \n",
      "                                                                 \n",
      " batch_normalization_3 (Batc  (None, 32, 32, 32)       128       \n",
      " hNormalization)                                                 \n",
      "                                                                 \n",
      " activation_4 (Activation)   (None, 32, 32, 32)        0         \n",
      "                                                                 \n",
      " conv2d_3 (Conv2D)           (None, 30, 30, 32)        9248      \n",
      "                                                                 \n",
      " batch_normalization_4 (Batc  (None, 30, 30, 32)       128       \n",
      " hNormalization)                                                 \n",
      "                                                                 \n",
      " activation_5 (Activation)   (None, 30, 30, 32)        0         \n",
      "                                                                 \n",
      " max_pooling2d_2 (MaxPooling  (None, 15, 15, 32)       0         \n",
      " 2D)                                                             \n",
      "                                                                 \n",
      " dropout_3 (Dropout)         (None, 15, 15, 32)        0         \n",
      "                                                                 \n",
      " conv2d_4 (Conv2D)           (None, 15, 15, 64)        18496     \n",
      "                                                                 \n",
      " batch_normalization_5 (Batc  (None, 15, 15, 64)       256       \n",
      " hNormalization)                                                 \n",
      "                                                                 \n",
      " activation_6 (Activation)   (None, 15, 15, 64)        0         \n",
      "                                                                 \n",
      " conv2d_5 (Conv2D)           (None, 13, 13, 64)        36928     \n",
      "                                                                 \n",
      " batch_normalization_6 (Batc  (None, 13, 13, 64)       256       \n",
      " hNormalization)                                                 \n",
      "                                                                 \n",
      " activation_7 (Activation)   (None, 13, 13, 64)        0         \n",
      "                                                                 \n",
      " max_pooling2d_3 (MaxPooling  (None, 6, 6, 64)         0         \n",
      " 2D)                                                             \n",
      "                                                                 \n",
      " dropout_4 (Dropout)         (None, 6, 6, 64)          0         \n",
      "                                                                 \n",
      " flatten_1 (Flatten)         (None, 2304)              0         \n",
      "                                                                 \n",
      " dense_2 (Dense)             (None, 512)               1180160   \n",
      "                                                                 \n",
      " batch_normalization_7 (Batc  (None, 512)              2048      \n",
      " hNormalization)                                                 \n",
      "                                                                 \n",
      " activation_8 (Activation)   (None, 512)               0         \n",
      "                                                                 \n",
      " dropout_5 (Dropout)         (None, 512)               0         \n",
      "                                                                 \n",
      " dense_3 (Dense)             (None, 10)                5130      \n",
      "                                                                 \n",
      " activation_9 (Activation)   (None, 10)                0         \n",
      "                                                                 \n",
      "=================================================================\n",
      "Total params: 1,253,674\n",
      "Trainable params: 1,252,266\n",
      "Non-trainable params: 1,408\n",
      "_________________________________________________________________\n"
     ]
    }
   ],
   "source": [
    "model2.summary()"
   ]
  },
  {
   "cell_type": "code",
   "execution_count": 15,
   "id": "dc8de10d",
   "metadata": {},
   "outputs": [
    {
     "name": "stdout",
     "output_type": "stream",
     "text": [
      "Epoch 1/10\n",
      "1563/1563 [==============================] - 44s 28ms/step - loss: 1.4344 - accuracy: 0.4996 - val_loss: 1.1464 - val_accuracy: 0.6025\n",
      "Epoch 2/10\n",
      "1563/1563 [==============================] - 42s 27ms/step - loss: 1.0012 - accuracy: 0.6486 - val_loss: 0.9471 - val_accuracy: 0.6715\n",
      "Epoch 3/10\n",
      "1563/1563 [==============================] - 41s 26ms/step - loss: 0.8629 - accuracy: 0.6967 - val_loss: 0.7554 - val_accuracy: 0.7356\n",
      "Epoch 4/10\n",
      "1563/1563 [==============================] - 43s 28ms/step - loss: 0.7754 - accuracy: 0.7266 - val_loss: 0.8226 - val_accuracy: 0.7193\n",
      "Epoch 5/10\n",
      "1563/1563 [==============================] - 47s 30ms/step - loss: 0.7136 - accuracy: 0.7522 - val_loss: 0.8847 - val_accuracy: 0.7013\n",
      "Epoch 6/10\n",
      "1563/1563 [==============================] - 40s 26ms/step - loss: 0.6588 - accuracy: 0.7703 - val_loss: 0.7308 - val_accuracy: 0.7396\n",
      "Epoch 7/10\n",
      "1563/1563 [==============================] - 40s 26ms/step - loss: 0.6180 - accuracy: 0.7842 - val_loss: 0.6452 - val_accuracy: 0.7792\n",
      "Epoch 8/10\n",
      "1563/1563 [==============================] - 41s 26ms/step - loss: 0.5829 - accuracy: 0.7977 - val_loss: 0.6623 - val_accuracy: 0.7665\n",
      "Epoch 9/10\n",
      "1563/1563 [==============================] - 41s 26ms/step - loss: 0.5534 - accuracy: 0.8070 - val_loss: 0.5909 - val_accuracy: 0.7975\n",
      "Epoch 10/10\n",
      "1563/1563 [==============================] - 41s 26ms/step - loss: 0.5219 - accuracy: 0.8153 - val_loss: 0.5767 - val_accuracy: 0.8035\n"
     ]
    }
   ],
   "source": [
    "# Training the model using the training data for 10 epochs, and validate it using the test data\n",
    "history = model2.fit(train_data,train_labels, \n",
    "          epochs=10,\n",
    "          validation_data=(test_data,test_labels))"
   ]
  },
  {
   "cell_type": "code",
   "execution_count": 16,
   "id": "adb3b453",
   "metadata": {},
   "outputs": [
    {
     "name": "stdout",
     "output_type": "stream",
     "text": [
      "313/313 [==============================] - 2s 7ms/step - loss: 0.5767 - accuracy: 0.8035\n",
      "Test Loss: 0.5767350196838379\n",
      "Test Accuracy: 0.8034999966621399\n"
     ]
    }
   ],
   "source": [
    "# Evaluate the model\n",
    "test_loss, test_accuracy = model2.evaluate(test_data, test_labels)\n",
    "\n",
    "print(\"Test Loss:\", test_loss)\n",
    "print(\"Test Accuracy:\", test_accuracy)"
   ]
  },
  {
   "cell_type": "markdown",
   "id": "b2043fbf",
   "metadata": {},
   "source": [
    "We can see that form both models that Model2 achieves higher accuracy on both training and test data, it comes at the cost of longer computation time due to its increased complexity. It has 4 convolutional layers, resulting in a deeper network. Also it includes additional Batch normalization which increases models capacity to learn intricate patterns in data. \n",
    "\n",
    "Model1 has simple architecture comapred to model2 as it consist of only 2 convolutional layers and not as many batch normalization which decreased the time complexity but also decreased the accuracy on test data. Thus limiting the model1 ability to capture complex patterns in data."
   ]
  },
  {
   "cell_type": "code",
   "execution_count": 17,
   "id": "c1a156a8",
   "metadata": {},
   "outputs": [
    {
     "name": "stdout",
     "output_type": "stream",
     "text": [
      "Image 100 is [0. 1. 0. 0. 0. 0. 0. 0. 0. 0.]\n",
      "1/1 [==============================] - 0s 213ms/step\n",
      "The model predict that image 100 is automobile\n"
     ]
    },
    {
     "data": {
      "image/png": "[encoded data removed]",
      "text/plain": [
       "<Figure size 640x480 with 1 Axes>"
      ]
     },
     "metadata": {},
     "output_type": "display_data"
    }
   ],
   "source": [
    "## Selecting image 290 from the test dataset and display it\n",
    "image = test_data[290]\n",
    "plt.imshow(image)\n",
    "\n",
    "# Displaying the true label of image 290 which is an automobile\n",
    "print(f\"Image 100 is {test_labels[290]}\")\n",
    "\n",
    "# Predicting the label of image 290 using the trained model which is an automobile\n",
    "pred_290 = np.argmax(model2.predict(image.reshape(1,32,32,3)))\n",
    "print(f\"The model predict that image 100 is {labels[pred_290]}\")"
   ]
  },
  {
   "cell_type": "code",
   "execution_count": 18,
   "id": "9e6e499d",
   "metadata": {},
   "outputs": [
    {
     "data": {
      "image/png": "[encoded data removed]",
      "text/plain": [
       "<Figure size 640x480 with 1 Axes>"
      ]
     },
     "metadata": {},
     "output_type": "display_data"
    }
   ],
   "source": [
    "import matplotlib.pyplot as plt\n",
    "\n",
    "# Plotting training and validation loss\n",
    "plt.plot(history.history['loss'], label='Training Loss', color='blue')\n",
    "plt.plot(history.history['val_loss'], label='Validation Loss', color='red')\n",
    "\n",
    "plt.xlabel('Epochs')\n",
    "# Adding labels and title\n",
    "plt.ylabel('Accuracy')\n",
    "plt.title('Training and Validation Loss')\n",
    "\n",
    "# Adding legend\n",
    "plt.legend()\n",
    "\n",
    "# Displaying the plot\n",
    "plt.show()\n"
   ]
  },
  {
   "cell_type": "code",
   "execution_count": 19,
   "id": "014c3ac8",
   "metadata": {},
   "outputs": [
    {
     "data": {
      "image/png": "[encoded data removed]",
      "text/plain": [
       "<Figure size 640x480 with 1 Axes>"
      ]
     },
     "metadata": {},
     "output_type": "display_data"
    }
   ],
   "source": [
    "# Plotting training and validation accuracy\n",
    "plt.plot(history.history['accuracy'], label='Training Accuracy', color='blue')\n",
    "plt.plot(history.history['val_accuracy'], label='Validation Accuracy', color='red')\n",
    "\n",
    "# Adding labels and title\n",
    "plt.xlabel('Epochs')\n",
    "plt.ylabel('Accuracy')\n",
    "plt.title('Training and Validation Accuracy')\n",
    "\n",
    "# Adding legend\n",
    "plt.legend()\n",
    "\n",
    "# Displaying the plot\n",
    "plt.show()"
   ]
  }
 ],
 "metadata": {
  "kernelspec": {
   "display_name": "Python 3 (ipykernel)",
   "language": "python",
   "name": "python3"
  },
  "language_info": {
   "codemirror_mode": {
    "name": "ipython",
    "version": 3
   },
   "file_extension": ".py",
   "mimetype": "text/x-python",
   "name": "python",
   "nbconvert_exporter": "python",
   "pygments_lexer": "ipython3",
   "version": "3.11.5"
  }
 },
 "nbformat": 4,
 "nbformat_minor": 5
}
